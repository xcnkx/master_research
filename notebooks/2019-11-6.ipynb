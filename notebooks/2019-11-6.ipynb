{
 "cells": [
  {
   "cell_type": "code",
   "execution_count": 1,
   "metadata": {},
   "outputs": [],
   "source": [
    "import pandas as pd\n",
    "import json\n",
    "from pandas.io.json import json_normalize"
   ]
  },
  {
   "cell_type": "code",
   "execution_count": 2,
   "metadata": {},
   "outputs": [],
   "source": [
    "df = pd.read_json('../data/raw/test/OUTPUT_ANDROPY_1573012922.58.json')\n"
   ]
  },
  {
   "cell_type": "code",
   "execution_count": 3,
   "metadata": {},
   "outputs": [],
   "source": [
    "df_s = df.iloc[:-2,:] "
   ]
  },
  {
   "cell_type": "code",
   "execution_count": 4,
   "metadata": {},
   "outputs": [],
   "source": [
    "df_s = df_s.T"
   ]
  },
  {
   "cell_type": "code",
   "execution_count": 5,
   "metadata": {},
   "outputs": [
    {
     "data": {
      "text/html": [
       "<div>\n",
       "<style scoped>\n",
       "    .dataframe tbody tr th:only-of-type {\n",
       "        vertical-align: middle;\n",
       "    }\n",
       "\n",
       "    .dataframe tbody tr th {\n",
       "        vertical-align: top;\n",
       "    }\n",
       "\n",
       "    .dataframe thead th {\n",
       "        text-align: right;\n",
       "    }\n",
       "</style>\n",
       "<table border=\"1\" class=\"dataframe\">\n",
       "  <thead>\n",
       "    <tr style=\"text-align: right;\">\n",
       "      <th></th>\n",
       "      <th>Pre_static_analysis</th>\n",
       "      <th>Static_analysis</th>\n",
       "    </tr>\n",
       "  </thead>\n",
       "  <tbody>\n",
       "    <tr>\n",
       "      <th>a2</th>\n",
       "      <td>{'Filename': 'a2.apk', 'md5': 'ec220753e11713b...</td>\n",
       "      <td>{'Package name': 'ac.za.cput.weboffice', 'Perm...</td>\n",
       "    </tr>\n",
       "    <tr>\n",
       "      <th>a1</th>\n",
       "      <td>{'Filename': 'a1.apk', 'md5': '420076fc7690b49...</td>\n",
       "      <td>{'Package name': 'adnan.solution.phalonkfawaid...</td>\n",
       "    </tr>\n",
       "    <tr>\n",
       "      <th>a3</th>\n",
       "      <td>{'Filename': 'a3.apk', 'md5': 'cb700d67c2238dd...</td>\n",
       "      <td>{'Package name': 'a.kakao.iconnect.woodentalk'...</td>\n",
       "    </tr>\n",
       "  </tbody>\n",
       "</table>\n",
       "</div>"
      ],
      "text/plain": [
       "                                  Pre_static_analysis  \\\n",
       "a2  {'Filename': 'a2.apk', 'md5': 'ec220753e11713b...   \n",
       "a1  {'Filename': 'a1.apk', 'md5': '420076fc7690b49...   \n",
       "a3  {'Filename': 'a3.apk', 'md5': 'cb700d67c2238dd...   \n",
       "\n",
       "                                      Static_analysis  \n",
       "a2  {'Package name': 'ac.za.cput.weboffice', 'Perm...  \n",
       "a1  {'Package name': 'adnan.solution.phalonkfawaid...  \n",
       "a3  {'Package name': 'a.kakao.iconnect.woodentalk'...  "
      ]
     },
     "execution_count": 5,
     "metadata": {},
     "output_type": "execute_result"
    }
   ],
   "source": [
    "df_s"
   ]
  },
  {
   "cell_type": "code",
   "execution_count": 6,
   "metadata": {},
   "outputs": [],
   "source": [
    "df_static = df_s.drop(\"Pre_static_analysis\", axis=1)"
   ]
  },
  {
   "cell_type": "code",
   "execution_count": 7,
   "metadata": {},
   "outputs": [],
   "source": [
    "df_static_f = json_normalize(df_static.to_dict(\"list\"), \"Static_analysis\", sep=\"-\")"
   ]
  },
  {
   "cell_type": "code",
   "execution_count": 8,
   "metadata": {},
   "outputs": [
    {
     "name": "stdout",
     "output_type": "stream",
     "text": [
      "CPU times: user 68 ms, sys: 0 ns, total: 68 ms\n",
      "Wall time: 63.6 ms\n"
     ]
    }
   ],
   "source": [
    "%time df_api_packages = df_static_f.filter(regex=\"^API packa\")"
   ]
  },
  {
   "cell_type": "code",
   "execution_count": 9,
   "metadata": {},
   "outputs": [
    {
     "data": {
      "text/html": [
       "<div>\n",
       "<style scoped>\n",
       "    .dataframe tbody tr th:only-of-type {\n",
       "        vertical-align: middle;\n",
       "    }\n",
       "\n",
       "    .dataframe tbody tr th {\n",
       "        vertical-align: top;\n",
       "    }\n",
       "\n",
       "    .dataframe thead th {\n",
       "        text-align: right;\n",
       "    }\n",
       "</style>\n",
       "<table border=\"1\" class=\"dataframe\">\n",
       "  <thead>\n",
       "    <tr style=\"text-align: right;\">\n",
       "      <th></th>\n",
       "      <th>Package name</th>\n",
       "      <th>Permissions</th>\n",
       "      <th>Main activity</th>\n",
       "      <th>Opcodes-rem-float/2addr</th>\n",
       "      <th>Opcodes-mul-float/2addr</th>\n",
       "      <th>Opcodes-rem-int/2addr</th>\n",
       "      <th>Opcodes-array-length</th>\n",
       "      <th>Opcodes-div-int/lit8</th>\n",
       "      <th>Opcodes-sub-float/2addr</th>\n",
       "      <th>Opcodes-move</th>\n",
       "      <th>...</th>\n",
       "      <th>API calls-android.widget.EdgeEffect.onPull</th>\n",
       "      <th>API calls-android.view.FocusFinder.findNextFocus</th>\n",
       "      <th>API calls-android.support.v4.view.ViewPager.i</th>\n",
       "      <th>Strings-kakaotalk://settings/theme/</th>\n",
       "      <th>Strings-com.android.browser.application_id</th>\n",
       "      <th>Strings-\\ud3f0\\ud14c\\ub9c8\\uc0f5\\uc774 \\uc124\\uce58\\ub418\\uc5b4 \\uc788\\uc5b4\\uc57c \\uc774\\uc6a9\\uac00\\ub2a5\\ud569\\ub2c8\\ub2e4.\\n\\ud3f0\\ud14c\\ub9c8\\uc0f5 \\uc124\\uce58\\ub97c \\uc704\\ud574 \\ub9c8\\ucf13\\uc73c\\ub85c \\uc774\\ub3d9 \\ud569\\ub2c8\\ub2e4.</th>\n",
       "      <th>Strings-market://details?id=com.iconnect.app.pts.a&amp;referrer=utm_source%3Dtheme_download%26utm_medium%3Dtheme</th>\n",
       "      <th>Strings-\\ud574\\ub2f9 \\uae30\\ub2a5\\uc744 \\uc704\\ud55c \\uc571\\uc744 \\ucc3e\\uc744 \\uc218 \\uc5c6\\uc2b5\\ub2c8\\ub2e4 :(</th>\n",
       "      <th>Strings-pts://</th>\n",
       "      <th>Activities-com.iconnect.kakao.theme.sample.MainActivity</th>\n",
       "    </tr>\n",
       "  </thead>\n",
       "  <tbody>\n",
       "    <tr>\n",
       "      <th>0</th>\n",
       "      <td>ac.za.cput.weboffice</td>\n",
       "      <td>[android.permission.INTERNET, android.permissi...</td>\n",
       "      <td>ac.za.cput.weboffice.CPUTMobile</td>\n",
       "      <td>2.0</td>\n",
       "      <td>159</td>\n",
       "      <td>1.0</td>\n",
       "      <td>361</td>\n",
       "      <td>56</td>\n",
       "      <td>38</td>\n",
       "      <td>1322</td>\n",
       "      <td>...</td>\n",
       "      <td>NaN</td>\n",
       "      <td>NaN</td>\n",
       "      <td>NaN</td>\n",
       "      <td>NaN</td>\n",
       "      <td>NaN</td>\n",
       "      <td>NaN</td>\n",
       "      <td>NaN</td>\n",
       "      <td>NaN</td>\n",
       "      <td>NaN</td>\n",
       "      <td>NaN</td>\n",
       "    </tr>\n",
       "    <tr>\n",
       "      <th>1</th>\n",
       "      <td>adnan.solution.phalonkfawaid</td>\n",
       "      <td>[android.permission.INTERNET, android.permissi...</td>\n",
       "      <td>adnan.solution.phalonkfawaid.Splash</td>\n",
       "      <td>2.0</td>\n",
       "      <td>146</td>\n",
       "      <td>NaN</td>\n",
       "      <td>1068</td>\n",
       "      <td>92</td>\n",
       "      <td>35</td>\n",
       "      <td>5244</td>\n",
       "      <td>...</td>\n",
       "      <td>NaN</td>\n",
       "      <td>NaN</td>\n",
       "      <td>NaN</td>\n",
       "      <td>NaN</td>\n",
       "      <td>NaN</td>\n",
       "      <td>NaN</td>\n",
       "      <td>NaN</td>\n",
       "      <td>NaN</td>\n",
       "      <td>NaN</td>\n",
       "      <td>NaN</td>\n",
       "    </tr>\n",
       "    <tr>\n",
       "      <th>2</th>\n",
       "      <td>a.kakao.iconnect.woodentalk</td>\n",
       "      <td>[]</td>\n",
       "      <td>com.iconnect.kakao.theme.sample.MainActivity</td>\n",
       "      <td>NaN</td>\n",
       "      <td>36</td>\n",
       "      <td>NaN</td>\n",
       "      <td>2</td>\n",
       "      <td>7</td>\n",
       "      <td>12</td>\n",
       "      <td>217</td>\n",
       "      <td>...</td>\n",
       "      <td>1.0</td>\n",
       "      <td>1.0</td>\n",
       "      <td>2.0</td>\n",
       "      <td>1.0</td>\n",
       "      <td>2.0</td>\n",
       "      <td>1.0</td>\n",
       "      <td>1.0</td>\n",
       "      <td>1.0</td>\n",
       "      <td>1.0</td>\n",
       "      <td>[android.intent.action.MAIN]</td>\n",
       "    </tr>\n",
       "  </tbody>\n",
       "</table>\n",
       "<p>3 rows × 16440 columns</p>\n",
       "</div>"
      ],
      "text/plain": [
       "                   Package name  \\\n",
       "0          ac.za.cput.weboffice   \n",
       "1  adnan.solution.phalonkfawaid   \n",
       "2   a.kakao.iconnect.woodentalk   \n",
       "\n",
       "                                         Permissions  \\\n",
       "0  [android.permission.INTERNET, android.permissi...   \n",
       "1  [android.permission.INTERNET, android.permissi...   \n",
       "2                                                 []   \n",
       "\n",
       "                                  Main activity  Opcodes-rem-float/2addr  \\\n",
       "0               ac.za.cput.weboffice.CPUTMobile                      2.0   \n",
       "1           adnan.solution.phalonkfawaid.Splash                      2.0   \n",
       "2  com.iconnect.kakao.theme.sample.MainActivity                      NaN   \n",
       "\n",
       "   Opcodes-mul-float/2addr  Opcodes-rem-int/2addr  Opcodes-array-length  \\\n",
       "0                      159                    1.0                   361   \n",
       "1                      146                    NaN                  1068   \n",
       "2                       36                    NaN                     2   \n",
       "\n",
       "   Opcodes-div-int/lit8  Opcodes-sub-float/2addr  Opcodes-move  ...  \\\n",
       "0                    56                       38          1322  ...   \n",
       "1                    92                       35          5244  ...   \n",
       "2                     7                       12           217  ...   \n",
       "\n",
       "   API calls-android.widget.EdgeEffect.onPull  \\\n",
       "0                                         NaN   \n",
       "1                                         NaN   \n",
       "2                                         1.0   \n",
       "\n",
       "   API calls-android.view.FocusFinder.findNextFocus  \\\n",
       "0                                               NaN   \n",
       "1                                               NaN   \n",
       "2                                               1.0   \n",
       "\n",
       "   API calls-android.support.v4.view.ViewPager.i  \\\n",
       "0                                            NaN   \n",
       "1                                            NaN   \n",
       "2                                            2.0   \n",
       "\n",
       "   Strings-kakaotalk://settings/theme/  \\\n",
       "0                                  NaN   \n",
       "1                                  NaN   \n",
       "2                                  1.0   \n",
       "\n",
       "   Strings-com.android.browser.application_id  \\\n",
       "0                                         NaN   \n",
       "1                                         NaN   \n",
       "2                                         2.0   \n",
       "\n",
       "   Strings-\\ud3f0\\ud14c\\ub9c8\\uc0f5\\uc774 \\uc124\\uce58\\ub418\\uc5b4 \\uc788\\uc5b4\\uc57c \\uc774\\uc6a9\\uac00\\ub2a5\\ud569\\ub2c8\\ub2e4.\\n\\ud3f0\\ud14c\\ub9c8\\uc0f5 \\uc124\\uce58\\ub97c \\uc704\\ud574 \\ub9c8\\ucf13\\uc73c\\ub85c \\uc774\\ub3d9 \\ud569\\ub2c8\\ub2e4.  \\\n",
       "0                                                NaN                                                                                                                                                                                                    \n",
       "1                                                NaN                                                                                                                                                                                                    \n",
       "2                                                1.0                                                                                                                                                                                                    \n",
       "\n",
       "   Strings-market://details?id=com.iconnect.app.pts.a&referrer=utm_source%3Dtheme_download%26utm_medium%3Dtheme  \\\n",
       "0                                                NaN                                                              \n",
       "1                                                NaN                                                              \n",
       "2                                                1.0                                                              \n",
       "\n",
       "   Strings-\\ud574\\ub2f9 \\uae30\\ub2a5\\uc744 \\uc704\\ud55c \\uc571\\uc744 \\ucc3e\\uc744 \\uc218 \\uc5c6\\uc2b5\\ub2c8\\ub2e4 :(  \\\n",
       "0                                                NaN                                                                   \n",
       "1                                                NaN                                                                   \n",
       "2                                                1.0                                                                   \n",
       "\n",
       "   Strings-pts://  Activities-com.iconnect.kakao.theme.sample.MainActivity  \n",
       "0             NaN                                                NaN        \n",
       "1             NaN                                                NaN        \n",
       "2             1.0                       [android.intent.action.MAIN]        \n",
       "\n",
       "[3 rows x 16440 columns]"
      ]
     },
     "execution_count": 9,
     "metadata": {},
     "output_type": "execute_result"
    }
   ],
   "source": [
    "df_static_f"
   ]
  },
  {
   "cell_type": "code",
   "execution_count": 10,
   "metadata": {},
   "outputs": [
    {
     "ename": "TypeError",
     "evalue": "string indices must be integers",
     "output_type": "error",
     "traceback": [
      "\u001b[0;31m---------------------------------------------------------------------------\u001b[0m",
      "\u001b[0;31mTypeError\u001b[0m                                 Traceback (most recent call last)",
      "\u001b[0;32m<ipython-input-10-a9020dd18f77>\u001b[0m in \u001b[0;36m<module>\u001b[0;34m\u001b[0m\n\u001b[0;32m----> 1\u001b[0;31m \u001b[0mjson_normalize\u001b[0m\u001b[0;34m(\u001b[0m\u001b[0mdf_static_f\u001b[0m\u001b[0;34m,\u001b[0m \u001b[0;34m\"Permissions\"\u001b[0m\u001b[0;34m,\u001b[0m \u001b[0msep\u001b[0m\u001b[0;34m=\u001b[0m\u001b[0;34m\"-\"\u001b[0m\u001b[0;34m)\u001b[0m\u001b[0;34m\u001b[0m\u001b[0;34m\u001b[0m\u001b[0m\n\u001b[0m",
      "\u001b[0;32m~/anaconda3/envs/research_py37/lib/python3.7/site-packages/pandas/io/json/_normalize.py\u001b[0m in \u001b[0;36mjson_normalize\u001b[0;34m(data, record_path, meta, meta_prefix, record_prefix, errors, sep, max_level)\u001b[0m\n\u001b[1;32m    323\u001b[0m                 \u001b[0mrecords\u001b[0m\u001b[0;34m.\u001b[0m\u001b[0mextend\u001b[0m\u001b[0;34m(\u001b[0m\u001b[0mrecs\u001b[0m\u001b[0;34m)\u001b[0m\u001b[0;34m\u001b[0m\u001b[0;34m\u001b[0m\u001b[0m\n\u001b[1;32m    324\u001b[0m \u001b[0;34m\u001b[0m\u001b[0m\n\u001b[0;32m--> 325\u001b[0;31m     \u001b[0m_recursive_extract\u001b[0m\u001b[0;34m(\u001b[0m\u001b[0mdata\u001b[0m\u001b[0;34m,\u001b[0m \u001b[0mrecord_path\u001b[0m\u001b[0;34m,\u001b[0m \u001b[0;34m{\u001b[0m\u001b[0;34m}\u001b[0m\u001b[0;34m,\u001b[0m \u001b[0mlevel\u001b[0m\u001b[0;34m=\u001b[0m\u001b[0;36m0\u001b[0m\u001b[0;34m)\u001b[0m\u001b[0;34m\u001b[0m\u001b[0;34m\u001b[0m\u001b[0m\n\u001b[0m\u001b[1;32m    326\u001b[0m \u001b[0;34m\u001b[0m\u001b[0m\n\u001b[1;32m    327\u001b[0m     \u001b[0mresult\u001b[0m \u001b[0;34m=\u001b[0m \u001b[0mDataFrame\u001b[0m\u001b[0;34m(\u001b[0m\u001b[0mrecords\u001b[0m\u001b[0;34m)\u001b[0m\u001b[0;34m\u001b[0m\u001b[0;34m\u001b[0m\u001b[0m\n",
      "\u001b[0;32m~/anaconda3/envs/research_py37/lib/python3.7/site-packages/pandas/io/json/_normalize.py\u001b[0m in \u001b[0;36m_recursive_extract\u001b[0;34m(data, path, seen_meta, level)\u001b[0m\n\u001b[1;32m    295\u001b[0m         \u001b[0;32melse\u001b[0m\u001b[0;34m:\u001b[0m\u001b[0;34m\u001b[0m\u001b[0;34m\u001b[0m\u001b[0m\n\u001b[1;32m    296\u001b[0m             \u001b[0;32mfor\u001b[0m \u001b[0mobj\u001b[0m \u001b[0;32min\u001b[0m \u001b[0mdata\u001b[0m\u001b[0;34m:\u001b[0m\u001b[0;34m\u001b[0m\u001b[0;34m\u001b[0m\u001b[0m\n\u001b[0;32m--> 297\u001b[0;31m                 \u001b[0mrecs\u001b[0m \u001b[0;34m=\u001b[0m \u001b[0m_pull_field\u001b[0m\u001b[0;34m(\u001b[0m\u001b[0mobj\u001b[0m\u001b[0;34m,\u001b[0m \u001b[0mpath\u001b[0m\u001b[0;34m[\u001b[0m\u001b[0;36m0\u001b[0m\u001b[0;34m]\u001b[0m\u001b[0;34m)\u001b[0m\u001b[0;34m\u001b[0m\u001b[0;34m\u001b[0m\u001b[0m\n\u001b[0m\u001b[1;32m    298\u001b[0m                 recs = [\n\u001b[1;32m    299\u001b[0m                     \u001b[0mnested_to_record\u001b[0m\u001b[0;34m(\u001b[0m\u001b[0mr\u001b[0m\u001b[0;34m,\u001b[0m \u001b[0msep\u001b[0m\u001b[0;34m=\u001b[0m\u001b[0msep\u001b[0m\u001b[0;34m,\u001b[0m \u001b[0mmax_level\u001b[0m\u001b[0;34m=\u001b[0m\u001b[0mmax_level\u001b[0m\u001b[0;34m)\u001b[0m\u001b[0;34m\u001b[0m\u001b[0;34m\u001b[0m\u001b[0m\n",
      "\u001b[0;32m~/anaconda3/envs/research_py37/lib/python3.7/site-packages/pandas/io/json/_normalize.py\u001b[0m in \u001b[0;36m_pull_field\u001b[0;34m(js, spec)\u001b[0m\n\u001b[1;32m    244\u001b[0m                 \u001b[0mresult\u001b[0m \u001b[0;34m=\u001b[0m \u001b[0mresult\u001b[0m\u001b[0;34m[\u001b[0m\u001b[0mfield\u001b[0m\u001b[0;34m]\u001b[0m\u001b[0;34m\u001b[0m\u001b[0;34m\u001b[0m\u001b[0m\n\u001b[1;32m    245\u001b[0m         \u001b[0;32melse\u001b[0m\u001b[0;34m:\u001b[0m\u001b[0;34m\u001b[0m\u001b[0;34m\u001b[0m\u001b[0m\n\u001b[0;32m--> 246\u001b[0;31m             \u001b[0mresult\u001b[0m \u001b[0;34m=\u001b[0m \u001b[0mresult\u001b[0m\u001b[0;34m[\u001b[0m\u001b[0mspec\u001b[0m\u001b[0;34m]\u001b[0m\u001b[0;34m\u001b[0m\u001b[0;34m\u001b[0m\u001b[0m\n\u001b[0m\u001b[1;32m    247\u001b[0m \u001b[0;34m\u001b[0m\u001b[0m\n\u001b[1;32m    248\u001b[0m         \u001b[0;32mreturn\u001b[0m \u001b[0mresult\u001b[0m\u001b[0;34m\u001b[0m\u001b[0;34m\u001b[0m\u001b[0m\n",
      "\u001b[0;31mTypeError\u001b[0m: string indices must be integers"
     ]
    }
   ],
   "source": [
    "json_normalize(df_static_f, \"Permissions\", sep=\"-\")"
   ]
  },
  {
   "cell_type": "code",
   "execution_count": 20,
   "metadata": {},
   "outputs": [
    {
     "ename": "TypeError",
     "evalue": "unsupported type: <class 'str'>",
     "output_type": "error",
     "traceback": [
      "\u001b[0;31m---------------------------------------------------------------------------\u001b[0m",
      "\u001b[0;31mTypeError\u001b[0m                                 Traceback (most recent call last)",
      "\u001b[0;32m<ipython-input-20-8bf6395b8c12>\u001b[0m in \u001b[0;36m<module>\u001b[0;34m\u001b[0m\n\u001b[0;32m----> 1\u001b[0;31m \u001b[0mdf_static_permissions\u001b[0m \u001b[0;34m=\u001b[0m \u001b[0mjson_normalize\u001b[0m\u001b[0;34m(\u001b[0m\u001b[0mdf_static_f\u001b[0m\u001b[0;34m.\u001b[0m\u001b[0mto_dict\u001b[0m\u001b[0;34m(\u001b[0m\u001b[0;34m\"split\"\u001b[0m\u001b[0;34m,\u001b[0m \u001b[0;34m\"Permissions\"\u001b[0m\u001b[0;34m)\u001b[0m\u001b[0;34m)\u001b[0m\u001b[0;34m\u001b[0m\u001b[0;34m\u001b[0m\u001b[0m\n\u001b[0m",
      "\u001b[0;32m~/anaconda3/envs/research_py37/lib/python3.7/site-packages/pandas/core/frame.py\u001b[0m in \u001b[0;36mto_dict\u001b[0;34m(self, orient, into)\u001b[0m\n\u001b[1;32m   1356\u001b[0m             )\n\u001b[1;32m   1357\u001b[0m         \u001b[0;31m# GH16122\u001b[0m\u001b[0;34m\u001b[0m\u001b[0;34m\u001b[0m\u001b[0;34m\u001b[0m\u001b[0m\n\u001b[0;32m-> 1358\u001b[0;31m         \u001b[0minto_c\u001b[0m \u001b[0;34m=\u001b[0m \u001b[0mcom\u001b[0m\u001b[0;34m.\u001b[0m\u001b[0mstandardize_mapping\u001b[0m\u001b[0;34m(\u001b[0m\u001b[0minto\u001b[0m\u001b[0;34m)\u001b[0m\u001b[0;34m\u001b[0m\u001b[0;34m\u001b[0m\u001b[0m\n\u001b[0m\u001b[1;32m   1359\u001b[0m         \u001b[0;32mif\u001b[0m \u001b[0morient\u001b[0m\u001b[0;34m.\u001b[0m\u001b[0mlower\u001b[0m\u001b[0;34m(\u001b[0m\u001b[0;34m)\u001b[0m\u001b[0;34m.\u001b[0m\u001b[0mstartswith\u001b[0m\u001b[0;34m(\u001b[0m\u001b[0;34m\"d\"\u001b[0m\u001b[0;34m)\u001b[0m\u001b[0;34m:\u001b[0m\u001b[0;34m\u001b[0m\u001b[0;34m\u001b[0m\u001b[0m\n\u001b[1;32m   1360\u001b[0m             \u001b[0;32mreturn\u001b[0m \u001b[0minto_c\u001b[0m\u001b[0;34m(\u001b[0m\u001b[0;34m(\u001b[0m\u001b[0mk\u001b[0m\u001b[0;34m,\u001b[0m \u001b[0mv\u001b[0m\u001b[0;34m.\u001b[0m\u001b[0mto_dict\u001b[0m\u001b[0;34m(\u001b[0m\u001b[0minto\u001b[0m\u001b[0;34m)\u001b[0m\u001b[0;34m)\u001b[0m \u001b[0;32mfor\u001b[0m \u001b[0mk\u001b[0m\u001b[0;34m,\u001b[0m \u001b[0mv\u001b[0m \u001b[0;32min\u001b[0m \u001b[0mself\u001b[0m\u001b[0;34m.\u001b[0m\u001b[0mitems\u001b[0m\u001b[0;34m(\u001b[0m\u001b[0;34m)\u001b[0m\u001b[0;34m)\u001b[0m\u001b[0;34m\u001b[0m\u001b[0;34m\u001b[0m\u001b[0m\n",
      "\u001b[0;32m~/anaconda3/envs/research_py37/lib/python3.7/site-packages/pandas/core/common.py\u001b[0m in \u001b[0;36mstandardize_mapping\u001b[0;34m(into)\u001b[0m\n\u001b[1;32m    413\u001b[0m         \u001b[0minto\u001b[0m \u001b[0;34m=\u001b[0m \u001b[0mtype\u001b[0m\u001b[0;34m(\u001b[0m\u001b[0minto\u001b[0m\u001b[0;34m)\u001b[0m\u001b[0;34m\u001b[0m\u001b[0;34m\u001b[0m\u001b[0m\n\u001b[1;32m    414\u001b[0m     \u001b[0;32mif\u001b[0m \u001b[0;32mnot\u001b[0m \u001b[0missubclass\u001b[0m\u001b[0;34m(\u001b[0m\u001b[0minto\u001b[0m\u001b[0;34m,\u001b[0m \u001b[0mabc\u001b[0m\u001b[0;34m.\u001b[0m\u001b[0mMapping\u001b[0m\u001b[0;34m)\u001b[0m\u001b[0;34m:\u001b[0m\u001b[0;34m\u001b[0m\u001b[0;34m\u001b[0m\u001b[0m\n\u001b[0;32m--> 415\u001b[0;31m         \u001b[0;32mraise\u001b[0m \u001b[0mTypeError\u001b[0m\u001b[0;34m(\u001b[0m\u001b[0;34m\"unsupported type: {into}\"\u001b[0m\u001b[0;34m.\u001b[0m\u001b[0mformat\u001b[0m\u001b[0;34m(\u001b[0m\u001b[0minto\u001b[0m\u001b[0;34m=\u001b[0m\u001b[0minto\u001b[0m\u001b[0;34m)\u001b[0m\u001b[0;34m)\u001b[0m\u001b[0;34m\u001b[0m\u001b[0;34m\u001b[0m\u001b[0m\n\u001b[0m\u001b[1;32m    416\u001b[0m     \u001b[0;32melif\u001b[0m \u001b[0minto\u001b[0m \u001b[0;34m==\u001b[0m \u001b[0mcollections\u001b[0m\u001b[0;34m.\u001b[0m\u001b[0mdefaultdict\u001b[0m\u001b[0;34m:\u001b[0m\u001b[0;34m\u001b[0m\u001b[0;34m\u001b[0m\u001b[0m\n\u001b[1;32m    417\u001b[0m         \u001b[0;32mraise\u001b[0m \u001b[0mTypeError\u001b[0m\u001b[0;34m(\u001b[0m\u001b[0;34m\"to_dict() only accepts initialized defaultdicts\"\u001b[0m\u001b[0;34m)\u001b[0m\u001b[0;34m\u001b[0m\u001b[0;34m\u001b[0m\u001b[0m\n",
      "\u001b[0;31mTypeError\u001b[0m: unsupported type: <class 'str'>"
     ]
    }
   ],
   "source": [
    "df_static_permissions = json_normalize(df_static_f.to_dict(\"split\", \"Permissions\"))"
   ]
  },
  {
   "cell_type": "code",
   "execution_count": 11,
   "metadata": {},
   "outputs": [
    {
     "ename": "NameError",
     "evalue": "name 'df_static_per' is not defined",
     "output_type": "error",
     "traceback": [
      "\u001b[0;31m---------------------------------------------------------------------------\u001b[0m",
      "\u001b[0;31mNameError\u001b[0m                                 Traceback (most recent call last)",
      "\u001b[0;32m<ipython-input-11-3d306eee0ef4>\u001b[0m in \u001b[0;36m<module>\u001b[0;34m\u001b[0m\n\u001b[0;32m----> 1\u001b[0;31m \u001b[0mdf_static_per\u001b[0m\u001b[0;34m\u001b[0m\u001b[0;34m\u001b[0m\u001b[0m\n\u001b[0m",
      "\u001b[0;31mNameError\u001b[0m: name 'df_static_per' is not defined"
     ]
    }
   ],
   "source": [
    "df_static_per"
   ]
  },
  {
   "cell_type": "code",
   "execution_count": null,
   "metadata": {},
   "outputs": [],
   "source": []
  }
 ],
 "metadata": {
  "file_extension": ".py",
  "kernelspec": {
   "display_name": "Python 3",
   "language": "python",
   "name": "python3"
  },
  "language_info": {
   "codemirror_mode": {
    "name": "ipython",
    "version": 3
   },
   "file_extension": ".py",
   "mimetype": "text/x-python",
   "name": "python",
   "nbconvert_exporter": "python",
   "pygments_lexer": "ipython3",
   "version": "3.7.3"
  },
  "mimetype": "text/x-python",
  "name": "python",
  "npconvert_exporter": "python",
  "pygments_lexer": "ipython3",
  "version": 3
 },
 "nbformat": 4,
 "nbformat_minor": 2
}
